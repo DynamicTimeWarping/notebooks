{
  "nbformat": 4,
  "nbformat_minor": 0,
  "metadata": {
    "kernelspec": {
      "display_name": "R",
      "language": "R",
      "name": "ir"
    },
    "language_info": {
      "codemirror_mode": "r",
      "file_extension": ".r",
      "mimetype": "text/x-r-source",
      "name": "R",
      "pygments_lexer": "r",
      "version": "3.3.1"
    },
    "colab": {
      "provenance": [],
      "include_colab_link": true
    }
  },
  "cells": [
    {
      "cell_type": "markdown",
      "metadata": {
        "id": "view-in-github",
        "colab_type": "text"
      },
      "source": [
        "<a href=\"https://colab.research.google.com/github/DynamicTimeWarping/notebooks/blob/master/R_DTW_Quickstart.ipynb\" target=\"_parent\"><img src=\"https://colab.research.google.com/assets/colab-badge.svg\" alt=\"Open In Colab\"/></a>"
      ]
    },
    {
      "cell_type": "code",
      "metadata": {
        "id": "MpPe4kJS6uGx",
        "outputId": "cefd51c3-bd00-47cd-e93e-a1bc8e7e502b",
        "colab": {
          "base_uri": "https://localhost:8080/"
        }
      },
      "source": [
        "install.packages(\"dtw\")"
      ],
      "execution_count": null,
      "outputs": [
        {
          "output_type": "stream",
          "name": "stderr",
          "text": [
            "Installing package into ‘/usr/local/lib/R/site-library’\n",
            "(as ‘lib’ is unspecified)\n",
            "\n",
            "also installing the dependency ‘proxy’\n",
            "\n",
            "\n"
          ]
        }
      ]
    },
    {
      "cell_type": "code",
      "metadata": {
        "id": "DfRsPaJY6vmH"
      },
      "source": [
        "## A noisy sine wave as query\n",
        "idx<-seq(0,6.28,len=100);\n",
        "query<-sin(idx)+runif(100)/10;\n",
        "\n",
        "## A cosine is for template; sin and cos are offset by 25 samples\n",
        "template<-cos(idx)\n",
        "\n",
        "## Find the best match with the canonical recursion formula\n",
        "library(dtw);\n",
        "alignment<-dtw(query,template,keep=TRUE);\n",
        "\n",
        "## Display the warping curve, i.e. the alignment curve\n",
        "plot(alignment,type=\"threeway\")"
      ],
      "execution_count": null,
      "outputs": []
    },
    {
      "cell_type": "code",
      "metadata": {
        "id": "kLnWJ8RF7EgD"
      },
      "source": [
        "## Align and plot with the Rabiner-Juang type VI-c unsmoothed recursion\n",
        "plot(\n",
        "    dtw(query,template,keep=TRUE,\n",
        "        step=rabinerJuangStepPattern(6,\"c\")),\n",
        "    type=\"twoway\",offset=-2);"
      ],
      "execution_count": null,
      "outputs": []
    },
    {
      "cell_type": "code",
      "metadata": {
        "id": "zkwEYTOO7Fye"
      },
      "source": [
        "## See the recursion relation, as formula and diagram\n",
        "rabinerJuangStepPattern(6,\"c\")\n",
        "plot(rabinerJuangStepPattern(6,\"c\"))\n",
        "\n",
        "## And much more!"
      ],
      "execution_count": null,
      "outputs": []
    }
  ]
}